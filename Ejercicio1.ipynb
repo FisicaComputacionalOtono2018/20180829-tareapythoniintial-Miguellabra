{
 "cells": [
  {
   "cell_type": "code",
   "execution_count": 4,
   "metadata": {},
   "outputs": [
    {
     "name": "stdout",
     "output_type": "stream",
     "text": [
      "Inserte el primer elemento del vector x: 3\n",
      "Inserte el segundo elemesto del vector x: 0\n",
      "Insterte el segundo elemento del vector y: 5\n",
      "insterte el segundo el elemnto del vector y: 5\n",
      "El angulo entre los vectores: [3.0, 0.0] [5.0, 5.0] es: 45 °\n"
     ]
    }
   ],
   "source": [
    "import numpy as np\n",
    "import math\n",
    "\n",
    "x1 = float(input(\"Inserte el primer elemento del vector x: \"))\n",
    "x2 = float(input(\"Inserte el segundo elemesto del vector x: \"))\n",
    "y1 = float(input(\"Insterte el segundo elemento del vector y: \"))\n",
    "y2 = float(input(\"insterte el segundo el elemnto del vector y: \"))\n",
    "\n",
    "x = [x1,x2]\n",
    "y = [y1, y2]\n",
    "\n",
    "def angulo():\n",
    "    a = x1 * x1\n",
    "    b = x2 * x2\n",
    "    suma1 = a+b\n",
    "   \n",
    "\n",
    "    a = y1 * y1\n",
    "    b = y2 * y2\n",
    "    suma2 = a+b\n",
    "\n",
    "    raiz1 = math.sqrt(suma1)\n",
    "    raiz2 = math.sqrt(suma2)\n",
    "   \n",
    "\n",
    "    beta = ((x1*y1)+(x2*y2))/((raiz1)*(raiz2))\n",
    "    gama = math.acos(beta)\n",
    "\n",
    "\n",
    "    alfa = int(math.degrees(gama))\n",
    "\n",
    "                         \n",
    "    print(\"El angulo entre los vectores:\",x,y,\"es:\",alfa,\"°\")\n",
    "    \n",
    "angulo()\n",
    "\n",
    "\n",
    "       \n",
    "        \n",
    "       \n",
    "        \n",
    "\n"
   ]
  },
  {
   "cell_type": "code",
   "execution_count": null,
   "metadata": {},
   "outputs": [],
   "source": []
  }
 ],
 "metadata": {
  "kernelspec": {
   "display_name": "Python 3",
   "language": "python",
   "name": "python3"
  },
  "language_info": {
   "codemirror_mode": {
    "name": "ipython",
    "version": 3
   },
   "file_extension": ".py",
   "mimetype": "text/x-python",
   "name": "python",
   "nbconvert_exporter": "python",
   "pygments_lexer": "ipython3",
   "version": "3.6.5"
  }
 },
 "nbformat": 4,
 "nbformat_minor": 2
}
