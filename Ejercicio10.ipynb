{
 "cells": [
  {
   "cell_type": "code",
   "execution_count": 1,
   "metadata": {},
   "outputs": [
    {
     "data": {
      "text/plain": [
       "<Figure size 640x480 with 1 Axes>"
      ]
     },
     "metadata": {},
     "output_type": "display_data"
    }
   ],
   "source": [
    "import numpy as np\n",
    "import matplotlib.pyplot as plt\n",
    "\n",
    "def f1(y):\n",
    "  return 2*(y**2)+5*y-2\n",
    "\n",
    "def f2(z):\n",
    "  return (4*z)+1\n",
    "\n",
    "#Definimos el rango de la variable x\n",
    "x = np.arange(-10.0, 15.0, 0.01)\n",
    "\n",
    "#Creamos el lienzo en general\n",
    "plt.figure(1)\n",
    "\n",
    "\n",
    "#Graficar las funciones\n",
    "plt.plot(x, f1(x), 'k')\n",
    "plt.plot(x, f2(x), r'--')\n",
    "\n",
    "\n",
    "#Se muestra la grafica\n",
    "plt.show()"
   ]
  },
  {
   "cell_type": "code",
   "execution_count": null,
   "metadata": {},
   "outputs": [],
   "source": []
  }
 ],
 "metadata": {
  "kernelspec": {
   "display_name": "Python 3",
   "language": "python",
   "name": "python3"
  },
  "language_info": {
   "codemirror_mode": {
    "name": "ipython",
    "version": 3
   },
   "file_extension": ".py",
   "mimetype": "text/x-python",
   "name": "python",
   "nbconvert_exporter": "python",
   "pygments_lexer": "ipython3",
   "version": "3.6.5"
  }
 },
 "nbformat": 4,
 "nbformat_minor": 2
}
