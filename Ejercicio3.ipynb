{
 "cells": [
  {
   "cell_type": "code",
   "execution_count": 7,
   "metadata": {},
   "outputs": [
    {
     "name": "stdout",
     "output_type": "stream",
     "text": [
      "Inserte el elemento x del vector V: 1\n",
      "Inserte el elemento y del vector V: 2\n",
      "Inserte el elemento z del vector V: 3\n",
      "Inserte el elemento x del vector W: 6\n",
      "Inserte el elemento y del vector W: 5\n",
      "Inserte el elemento z del vector W: 4\n",
      "El producto vectorial V x W es:  [-7, 14, -7]\n",
      "El producto vectorial V x W es:  [-7, 14, -7]\n"
     ]
    }
   ],
   "source": [
    "import numpy as np\n",
    "import math\n",
    "\n",
    "Vx = int(input(\"Inserte el elemento x del vector V: \"))\n",
    "Vy = int(input(\"Inserte el elemento y del vector V: \"))\n",
    "Vz = int(input(\"Inserte el elemento z del vector V: \"))\n",
    "\n",
    "\n",
    "Wx = int(input(\"Inserte el elemento x del vector W: \"))\n",
    "Wy = int(input(\"Inserte el elemento y del vector W: \"))\n",
    "Wz = int(input(\"Inserte el elemento z del vector W: \"))\n",
    "\n",
    "\n",
    "def prov():\n",
    "\n",
    "    V = np.arange(Vx,Vy,Vz)\n",
    "    W = np.arange(Wx,Wy,Wz)\n",
    "\n",
    "    i = (Vy*Wz)-(Vz*Wy)\n",
    "    j = ((Vx*Wz)-(Vz*Wx))*(-1)\n",
    "    k = (Vx*Wy)-(Vy*Wx)\n",
    "\n",
    "    U = [i,j,k]\n",
    "    \n",
    "    print(\"El producto vectorial V x W es: \",U)\n",
    "    \n",
    "prov()\n"
   ]
  },
  {
   "cell_type": "code",
   "execution_count": null,
   "metadata": {},
   "outputs": [],
   "source": []
  }
 ],
 "metadata": {
  "kernelspec": {
   "display_name": "Python 3",
   "language": "python",
   "name": "python3"
  },
  "language_info": {
   "codemirror_mode": {
    "name": "ipython",
    "version": 3
   },
   "file_extension": ".py",
   "mimetype": "text/x-python",
   "name": "python",
   "nbconvert_exporter": "python",
   "pygments_lexer": "ipython3",
   "version": "3.6.5"
  }
 },
 "nbformat": 4,
 "nbformat_minor": 2
}
