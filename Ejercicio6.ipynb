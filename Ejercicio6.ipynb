{
 "cells": [
  {
   "cell_type": "code",
   "execution_count": null,
   "metadata": {},
   "outputs": [],
   "source": [
    "a = input(\"Insterte el primer numero: \")\n",
    "b = input(\"Insterte el segundo numero: \")\n",
    "c = input(\"Insterte el tercer numero: \")\n",
    "d = input(\"Insterte el cuarto numero: \")\n",
    "\n",
    "if a>=b and a>=c and a>=d:\n",
    "   print(a,\"Es la mayor de los cuatro\")\n",
    "else:\n",
    "     if b>=a and b>=c and b>=d:\n",
    "      print(b,\"Es el mayor de los cuatro\")\n",
    "     else:\n",
    "        if c>=a and c>=b and c>=d:\n",
    "          print(c,\"Es el mayor de los cuatro\")\n",
    "        else:\n",
    "            if d>=a and d>=b and d>=c:\n",
    "              print(d,\"Es el mayor de los cuatro\")"
   ]
  }
 ],
 "metadata": {
  "kernelspec": {
   "display_name": "Python 3",
   "language": "python",
   "name": "python3"
  },
  "language_info": {
   "codemirror_mode": {
    "name": "ipython",
    "version": 3
   },
   "file_extension": ".py",
   "mimetype": "text/x-python",
   "name": "python",
   "nbconvert_exporter": "python",
   "pygments_lexer": "ipython3",
   "version": "3.6.5"
  }
 },
 "nbformat": 4,
 "nbformat_minor": 2
}
