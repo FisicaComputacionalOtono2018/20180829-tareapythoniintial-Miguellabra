{
 "cells": [
  {
   "cell_type": "code",
   "execution_count": 6,
   "metadata": {},
   "outputs": [
    {
     "name": "stdout",
     "output_type": "stream",
     "text": [
      "Introduce la base del triangulo: 3\n",
      "Introduce la altura del triangulo: 4\n",
      "6.0\n"
     ]
    }
   ],
   "source": [
    "b = float(input(\"Introduce la base del triangulo: \"))\n",
    "a = float(input(\"Introduce la altura del triangulo: \"))\n",
    "\n",
    "def sup(b,a):\n",
    "    superficie = (b*a)/2\n",
    "    print(superficie)\n",
    "sup(b,a)"
   ]
  },
  {
   "cell_type": "code",
   "execution_count": null,
   "metadata": {},
   "outputs": [],
   "source": []
  }
 ],
 "metadata": {
  "kernelspec": {
   "display_name": "Python 3",
   "language": "python",
   "name": "python3"
  },
  "language_info": {
   "codemirror_mode": {
    "name": "ipython",
    "version": 3
   },
   "file_extension": ".py",
   "mimetype": "text/x-python",
   "name": "python",
   "nbconvert_exporter": "python",
   "pygments_lexer": "ipython3",
   "version": "3.6.5"
  }
 },
 "nbformat": 4,
 "nbformat_minor": 2
}
