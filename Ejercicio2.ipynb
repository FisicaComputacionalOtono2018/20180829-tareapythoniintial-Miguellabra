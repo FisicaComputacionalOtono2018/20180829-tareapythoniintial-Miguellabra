{
 "cells": [
  {
   "cell_type": "code",
   "execution_count": 9,
   "metadata": {},
   "outputs": [
    {
     "name": "stdout",
     "output_type": "stream",
     "text": [
      "Insterte el valor del elemento x: 3\n",
      "Insterte el valor del elemento y: 4\n",
      "Inserte el valor del elemento z: 2\n",
      "\n",
      "\n",
      "\n",
      "El angulo respecto al eje x es:  56 °\n",
      "El angulo respecto al eje y es:  42 °\n",
      "El angulo respecto al eje z es.  68 °\n"
     ]
    }
   ],
   "source": [
    "import numpy as np\n",
    "import math\n",
    "\n",
    "x = float(input(\"Insterte el valor del elemento x: \"))\n",
    "y = float(input(\"Insterte el valor del elemento y: \"))\n",
    "z = float(input(\"Inserte el valor del elemento z: \"))\n",
    "\n",
    "V = [x,y,z]\n",
    "\n",
    "def angulos():\n",
    "\n",
    "    a = x**2 + y**2 + z**2\n",
    "    modulo = math.sqrt(a)\n",
    "\n",
    "    #eje x\n",
    "\n",
    "    cosalfa = x/modulo\n",
    "    cosalfa = math.acos(cosalfa)\n",
    "\n",
    "    alfa = int(math.degrees(cosalfa))\n",
    "\n",
    "    #eje y\n",
    "\n",
    "    cosbeta = y/modulo\n",
    "    cosbeta = math.acos(cosbeta)\n",
    "\n",
    "    beta = int(math.degrees(cosbeta))\n",
    "\n",
    "    #eje z\n",
    "\n",
    "    cosgama = z/modulo\n",
    "    cosgama = math.acos(cosgama)\n",
    "\n",
    "    gama = int(math.degrees(cosgama))\n",
    "    \n",
    "    print(\"\\n\\n\")\n",
    "    print(\"El angulo respecto al eje x es: \",alfa,\"°\")\n",
    "    print(\"El angulo respecto al eje y es: \",beta,\"°\")\n",
    "    print(\"El angulo respecto al eje z es. \",gama,\"°\")\n",
    "\n",
    "angulos()"
   ]
  },
  {
   "cell_type": "code",
   "execution_count": null,
   "metadata": {},
   "outputs": [],
   "source": []
  }
 ],
 "metadata": {
  "kernelspec": {
   "display_name": "Python 3",
   "language": "python",
   "name": "python3"
  },
  "language_info": {
   "codemirror_mode": {
    "name": "ipython",
    "version": 3
   },
   "file_extension": ".py",
   "mimetype": "text/x-python",
   "name": "python",
   "nbconvert_exporter": "python",
   "pygments_lexer": "ipython3",
   "version": "3.6.5"
  }
 },
 "nbformat": 4,
 "nbformat_minor": 2
}
